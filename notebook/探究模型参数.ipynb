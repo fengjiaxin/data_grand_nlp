{
 "cells": [
  {
   "cell_type": "code",
   "execution_count": 3,
   "metadata": {},
   "outputs": [],
   "source": [
    "import torch\n",
    "import torch.nn as nn\n",
    "\n",
    "class FastText(nn.Module):\n",
    "    def __init__(self,vocab_size,vector_size,hidden_size,classes):\n",
    "        super(FastText,self).__init__()\n",
    "        self.vocab_size = vocab_size\n",
    "        self.vector_size = vector_size\n",
    "        self.hidden_size = hidden_size\n",
    "        self.classes = classes\n",
    "        \n",
    "        self.embeddings = nn.Embedding(vocab_size,vector_size)\n",
    "        self.fc1 = nn.Linear(self.vector_size,self.hidden_size)\n",
    "        self.fc2 = nn.Linear(self.hidden_size,self.classes)\n",
    "        # softmax\n",
    "        self.softmax = nn.Softmax(dim=-1)\n",
    "\n",
    "    def forward(self,x):\n",
    "        '''\n",
    "        前向传播\n",
    "        :param x:[batch_size,seq_len]\n",
    "        :return: [batch,class]\n",
    "        '''\n",
    "        embeded_sent = self.embeddings(x) #[batch,seq_len,emb_dim]\n",
    "        # 平均\n",
    "        embeded_sent = embeded_sent.mean(1) # [batch,emb_dim]\n",
    "        h = self.fc1(embeded_sent)\n",
    "        z = self.fc2(h) # [batch,classes]\n",
    "        return self.softmax(z)     "
   ]
  },
  {
   "cell_type": "code",
   "execution_count": 4,
   "metadata": {},
   "outputs": [],
   "source": [
    "vocab_size = 100\n",
    "vector_size = 10\n",
    "hidden_size = 5\n",
    "classes = 2\n",
    "ft_model = FastText(vocab_size,vector_size,hidden_size,classes)"
   ]
  },
  {
   "cell_type": "code",
   "execution_count": 9,
   "metadata": {},
   "outputs": [
    {
     "data": {
      "text/plain": [
       "[4535100904]"
      ]
     },
     "execution_count": 9,
     "metadata": {},
     "output_type": "execute_result"
    }
   ],
   "source": [
    "list(map(id, ft_model.embeddings.parameters()))"
   ]
  },
  {
   "cell_type": "code",
   "execution_count": 10,
   "metadata": {},
   "outputs": [
    {
     "data": {
      "text/plain": [
       "<function id(obj, /)>"
      ]
     },
     "execution_count": 10,
     "metadata": {},
     "output_type": "execute_result"
    }
   ],
   "source": [
    "id"
   ]
  },
  {
   "cell_type": "code",
   "execution_count": null,
   "metadata": {},
   "outputs": [],
   "source": []
  }
 ],
 "metadata": {
  "kernelspec": {
   "display_name": "Python 3",
   "language": "python",
   "name": "python3"
  },
  "language_info": {
   "codemirror_mode": {
    "name": "ipython",
    "version": 3
   },
   "file_extension": ".py",
   "mimetype": "text/x-python",
   "name": "python",
   "nbconvert_exporter": "python",
   "pygments_lexer": "ipython3",
   "version": "3.6.7"
  }
 },
 "nbformat": 4,
 "nbformat_minor": 2
}
