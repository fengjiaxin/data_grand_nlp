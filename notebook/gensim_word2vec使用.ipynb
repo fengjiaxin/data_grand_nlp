{
 "cells": [
  {
   "cell_type": "code",
   "execution_count": 1,
   "metadata": {},
   "outputs": [],
   "source": [
    "from gensim.models import word2vec"
   ]
  },
  {
   "cell_type": "code",
   "execution_count": 2,
   "metadata": {},
   "outputs": [],
   "source": [
    "raw_article_path = '../data/mini/content_data/mini_raw_article.txt'\n",
    "\n",
    "gensim_word2vec_path = '../data/mini/word2vec_data/gensim/word2vec_article.txt'"
   ]
  },
  {
   "cell_type": "code",
   "execution_count": 3,
   "metadata": {},
   "outputs": [],
   "source": [
    "sentences = word2vec.LineSentence(raw_article_path)"
   ]
  },
  {
   "cell_type": "code",
   "execution_count": 5,
   "metadata": {},
   "outputs": [],
   "source": [
    "model = word2vec.Word2Vec(sentences,hs=1)"
   ]
  },
  {
   "cell_type": "code",
   "execution_count": 14,
   "metadata": {},
   "outputs": [
    {
     "name": "stdout",
     "output_type": "stream",
     "text": [
      "1044285\n",
      "[-2.0754476e-04 -4.3295604e-01  3.1988937e-01  1.3888900e-02\n",
      "  1.1002681e+00  3.4295464e-01  1.8396389e-01 -5.4701602e-01\n",
      " -2.2841595e-01 -9.0116459e-01 -3.3552220e-01  3.5011446e-01\n",
      "  7.0373565e-01 -6.5811644e-03 -9.0596020e-01  4.1565081e-01\n",
      " -4.8250499e-01  1.9731584e-01  2.3856588e-01  2.2763063e-01\n",
      " -6.4864554e-02 -7.9998755e-01 -1.0220134e+00 -5.9375298e-01\n",
      " -4.1736653e-01 -6.4453229e-02  6.3790828e-02  1.0013320e+00\n",
      "  4.8043624e-01  4.6950862e-01  2.6317692e-01  7.7877223e-01\n",
      " -5.9363133e-01 -1.1971233e-01 -2.9305324e-03 -1.0530627e+00\n",
      "  1.0529196e-01 -3.8777569e-01 -6.4236337e-01 -2.7876809e-01\n",
      "  1.6203083e-01 -9.3801987e-01 -4.6349250e-02  1.1424601e+00\n",
      "  1.0786003e+00  1.5226026e-01 -6.8459868e-01 -1.9798642e-02\n",
      " -2.8736207e-01 -5.3158569e-01 -5.9800315e-01 -9.6899801e-01\n",
      " -1.7397200e-01  1.5400818e-01 -5.0745511e-01 -5.8268344e-01\n",
      "  5.5337858e-01  5.3985560e-01  1.3564755e-01  1.6724172e-01\n",
      "  5.8866990e-01  7.8711830e-02 -5.0046104e-01 -2.6490352e-01\n",
      " -2.4054432e-01 -1.5848023e+00  3.0783230e-01  3.5389283e-01\n",
      "  2.5828212e-01  2.4008060e-01  7.8403372e-01  5.2145505e-01\n",
      "  1.6518486e-01  4.2520747e-01 -1.8658823e-01  2.2609907e-01\n",
      "  4.6613884e-01 -6.9888878e-01 -6.3801777e-01  1.6746964e-01\n",
      "  1.3747205e-01  2.8361830e-01  3.7096736e-01 -1.3940729e-01\n",
      " -5.0193596e-01  2.8536612e-01 -9.1852844e-01  2.0465034e-01\n",
      "  7.7036774e-01  8.7822753e-01  7.4197078e-01 -1.4440164e-01\n",
      "  6.3824266e-02  6.0121238e-01 -4.7790319e-01 -7.0385359e-02\n",
      " -2.3019442e-02 -1.6858859e-01 -2.7223960e-01 -2.1347247e-01]\n"
     ]
    }
   ],
   "source": [
    "for word in model.wv.index2word:\n",
    "    print(word)\n",
    "    print(model.wv[word])\n",
    "    break"
   ]
  },
  {
   "cell_type": "code",
   "execution_count": 17,
   "metadata": {},
   "outputs": [],
   "source": [
    "def train(input_path,output_path):\n",
    "    print('start handle sentences')\n",
    "    sentences = word2vec.LineSentence(input_path)\n",
    "    print('begin train model')\n",
    "    model = word2vec.Word2Vec(sentences,hs=1)\n",
    "    print('begin save word vector')\n",
    "    with open(output_path,'w') as w:\n",
    "        for word in model.wv.index2word:\n",
    "            vector = model.wv[word]\n",
    "            w.write(str(word) + ' ' + ' '.join(map(str,vector)) + '\\n')\n",
    "    print('save success')        "
   ]
  },
  {
   "cell_type": "code",
   "execution_count": 18,
   "metadata": {},
   "outputs": [
    {
     "name": "stdout",
     "output_type": "stream",
     "text": [
      "start handle sentences\n",
      "begin train model\n",
      "begin save word vector\n",
      "save success\n"
     ]
    }
   ],
   "source": [
    "train(raw_article_path,gensim_word2vec_path)"
   ]
  },
  {
   "cell_type": "code",
   "execution_count": null,
   "metadata": {},
   "outputs": [],
   "source": []
  }
 ],
 "metadata": {
  "kernelspec": {
   "display_name": "Python 3",
   "language": "python",
   "name": "python3"
  },
  "language_info": {
   "codemirror_mode": {
    "name": "ipython",
    "version": 3
   },
   "file_extension": ".py",
   "mimetype": "text/x-python",
   "name": "python",
   "nbconvert_exporter": "python",
   "pygments_lexer": "ipython3",
   "version": "3.6.7"
  }
 },
 "nbformat": 4,
 "nbformat_minor": 2
}
