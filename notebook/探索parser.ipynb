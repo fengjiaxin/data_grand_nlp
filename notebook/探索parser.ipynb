{
 "cells": [
  {
   "cell_type": "code",
   "execution_count": 1,
   "metadata": {},
   "outputs": [],
   "source": [
    "import argparse\n",
    "\n",
    "class Hprams:\n",
    "    parser = argparse.ArgumentParser()\n",
    "\n",
    "    parser.add_argument('--seed',default=77,type=int,help='random seed number')\n",
    "    parser.add_argument('--best_score',default=0,type=float,help='model best fp1 score')\n",
    "    parser.add_argument('--model_name',default='FastText',type=str,help='model name ,same as models/__init__.py name')\n",
    "    parser.add_argument('--model_path',default='',help='model params dict path')\n",
    "    parser.add_argument('--save_dir',default='../save_models',help='model save basic dir')\n",
    "    parser.add_argument('--result_path',default='',help='result save path')\n",
    "    parser.add_argument('--data_path',default='../data/origin_data',help='origin save path dir')\n",
    "\n",
    "    parser.add_argument('--embedding_path',default='../data/word2vec_data',help='word2vec save dir')\n",
    "    parser.add_argument('--embedding_dim',default=50,help='len of word vector')\n",
    "\n",
    "    parser.add_argument('--data_scale',default='mini',help='scale of data (\"mini\" /\"all\")')\n",
    "    parser.add_argument('--text_type',default='article',help='use word2vec type (\"article\"/\"word\")')\n",
    "    parser.add_argument('--word2vec_type',default='skip2gram',help='word2vec type (\"skip2gram\")/\"glove\"')\n",
    "    parser.add_argument('--column_name',default='',help='dataframe column,get later')\n",
    "    parser.add_argument('--label',default='laebl',help='dataframe label column')\n",
    "\n",
    "\n",
    "    parser.add_argument('--max_seq_len',default=50,help='update by later')\n",
    "    parser.add_argument('--label_size',default=19,help='class num')\n",
    "\n",
    "    # 训练参数\n",
    "    parser.add_argument('--lr1',default=1e-3,type=float,help='learning rate of parameters except embedding')\n",
    "    parser.add_argument('--lr2',default=0,type=float,help='learning rate of embedding parameters')\n",
    "    parser.add_argument('--min_lr',default=1e-5,type=float,help='当学习率低于这个值事，就退出训练')\n",
    "    parser.add_argument('--lr_decay',default=0.8,type=float,help='当一个epoch的损失开始上升时，lr=lr*decay')\n",
    "    parser.add_argument('--decay_every',default=10000,help='每多少个batch,查看val acc ，并修改学习率')\n",
    "    parser.add_argument('--weight_decay',default=0,help='权重衰减')\n",
    "    parser.add_argument('--max_epoches',default=5,help='train epoches')\n",
    "    parser.add_argument('--cuda',default=False,help='是否可以使用nvida gpu训练,upadte later')\n",
    "\n",
    "    # 模型参数\n",
    "    parser.add_argument('--hidden_size',default=100,help='hidden size number')\n",
    "\n"
   ]
  },
  {
   "cell_type": "code",
   "execution_count": 4,
   "metadata": {},
   "outputs": [
    {
     "name": "stderr",
     "output_type": "stream",
     "text": [
      "usage: ipykernel_launcher.py [-h] [--seed SEED] [--best_score BEST_SCORE]\n",
      "                             [--model_name MODEL_NAME]\n",
      "                             [--model_path MODEL_PATH] [--save_dir SAVE_DIR]\n",
      "                             [--result_path RESULT_PATH]\n",
      "                             [--data_path DATA_PATH]\n",
      "                             [--embedding_path EMBEDDING_PATH]\n",
      "                             [--embedding_dim EMBEDDING_DIM]\n",
      "                             [--data_scale DATA_SCALE] [--text_type TEXT_TYPE]\n",
      "                             [--word2vec_type WORD2VEC_TYPE]\n",
      "                             [--column_name COLUMN_NAME] [--label LABEL]\n",
      "                             [--max_seq_len MAX_SEQ_LEN]\n",
      "                             [--label_size LABEL_SIZE] [--lr1 LR1] [--lr2 LR2]\n",
      "                             [--min_lr MIN_LR] [--lr_decay LR_DECAY]\n",
      "                             [--decay_every DECAY_EVERY]\n",
      "                             [--weight_decay WEIGHT_DECAY]\n",
      "                             [--max_epoches MAX_EPOCHES] [--cuda CUDA]\n",
      "                             [--hidden_size HIDDEN_SIZE]\n",
      "ipykernel_launcher.py: error: unrecognized arguments: -f /Users/fengjiaxin/Library/Jupyter/runtime/kernel-f1e17edb-99a1-4269-bc4c-0d22fb52de92.json\n"
     ]
    },
    {
     "ename": "SystemExit",
     "evalue": "2",
     "traceback": [
      "An exception has occurred, use %tb to see the full traceback.\n",
      "\u001b[0;31mSystemExit\u001b[0m\u001b[0;31m:\u001b[0m 2\n"
     ],
     "output_type": "error"
    }
   ],
   "source": [
    "hparams = Hprams()\n",
    "parser = hparams.parser\n",
    "hp = parser.parse_args()\n",
    "print(vars(hp))"
   ]
  },
  {
   "cell_type": "code",
   "execution_count": null,
   "metadata": {},
   "outputs": [],
   "source": []
  }
 ],
 "metadata": {
  "kernelspec": {
   "display_name": "Python 3",
   "language": "python",
   "name": "python3"
  },
  "language_info": {
   "codemirror_mode": {
    "name": "ipython",
    "version": 3
   },
   "file_extension": ".py",
   "mimetype": "text/x-python",
   "name": "python",
   "nbconvert_exporter": "python",
   "pygments_lexer": "ipython3",
   "version": "3.6.7"
  }
 },
 "nbformat": 4,
 "nbformat_minor": 2
}
